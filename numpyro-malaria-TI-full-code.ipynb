{
 "cells": [
  {
   "cell_type": "code",
   "execution_count": 1,
   "metadata": {},
   "outputs": [],
   "source": [
    "import os\n",
    "import time\n",
    "\n",
    "from nptyping import NDArray\n",
    "\n",
    "import numpy as np\n",
    "import pandas as pd\n",
    "import seaborn as sns\n",
    "import matplotlib.pyplot as plt\n",
    "import matplotlib as mpl\n",
    "import arviz as az\n",
    "\n",
    "from jax.scipy.special import logsumexp\n",
    "from jax import random\n",
    "import jax.numpy as jnp\n",
    "from jax import vmap\n",
    "import jax\n",
    "\n",
    "import numpyro\n",
    "import numpyro.distributions as dist\n",
    "from numpyro.infer import MCMC, NUTS, Predictive\n",
    "from numpyro.contrib.nested_sampling import NestedSampler\n",
    "from numpyro.distributions import constraints\n",
    "from numpyro.infer import Predictive, SVI, Trace_ELBO, MCMC, NUTS\n",
    "from numpyro.diagnostics import autocorrelation, hpdi\n",
    "from numpyro import handlers\n",
    "from numpyro.contrib.control_flow import scan\n",
    "from numpyro.infer.util import initialize_model, log_density\n",
    "from numpyro.infer.hmc import hmc\n",
    "from numpyro.infer.autoguide import AutoMultivariateNormal, AutoDiagonalNormal\n",
    "\n",
    "import seaborn as sns\n",
    "import scipy\n"
   ]
  },
  {
   "cell_type": "markdown",
   "metadata": {},
   "source": [
    "# Load the data"
   ]
  },
  {
   "cell_type": "code",
   "execution_count": 2,
   "metadata": {},
   "outputs": [
    {
     "data": {
      "text/html": [
       "<div>\n",
       "<style scoped>\n",
       "    .dataframe tbody tr th:only-of-type {\n",
       "        vertical-align: middle;\n",
       "    }\n",
       "\n",
       "    .dataframe tbody tr th {\n",
       "        vertical-align: top;\n",
       "    }\n",
       "\n",
       "    .dataframe thead th {\n",
       "        text-align: right;\n",
       "    }\n",
       "</style>\n",
       "<table border=\"1\" class=\"dataframe\">\n",
       "  <thead>\n",
       "    <tr style=\"text-align: right;\">\n",
       "      <th></th>\n",
       "      <th>id</th>\n",
       "      <th>country</th>\n",
       "      <th>latitude</th>\n",
       "      <th>longitude</th>\n",
       "      <th>year_start</th>\n",
       "      <th>examined</th>\n",
       "      <th>pf_pos</th>\n",
       "      <th>pf_pr</th>\n",
       "      <th>LST_Night_SD_5km</th>\n",
       "      <th>TCW_SD_5km</th>\n",
       "      <th>...</th>\n",
       "      <th>prec57a0_5km</th>\n",
       "      <th>TCB_Mean_5km</th>\n",
       "      <th>LST_Delta_SD_5km</th>\n",
       "      <th>TCB_SD_5km</th>\n",
       "      <th>LST_Day_SD_5km</th>\n",
       "      <th>LST_Day_Mean_5km</th>\n",
       "      <th>LST_Delta_Mean_5km</th>\n",
       "      <th>EVI_SD_5km</th>\n",
       "      <th>IGBP_2011_combined_forest</th>\n",
       "      <th>Pv_temperature_suitability</th>\n",
       "    </tr>\n",
       "  </thead>\n",
       "  <tbody>\n",
       "    <tr>\n",
       "      <th>0</th>\n",
       "      <td>805938</td>\n",
       "      <td>Burundi</td>\n",
       "      <td>-3.11032</td>\n",
       "      <td>30.13181</td>\n",
       "      <td>2002</td>\n",
       "      <td>12</td>\n",
       "      <td>5.0</td>\n",
       "      <td>0.416667</td>\n",
       "      <td>1.615688</td>\n",
       "      <td>0.037288</td>\n",
       "      <td>...</td>\n",
       "      <td>91.599998</td>\n",
       "      <td>0.442503</td>\n",
       "      <td>4.365335</td>\n",
       "      <td>0.035782</td>\n",
       "      <td>4.094793</td>\n",
       "      <td>26.112253</td>\n",
       "      <td>12.006243</td>\n",
       "      <td>0.084885</td>\n",
       "      <td>0.0</td>\n",
       "      <td>19407.0</td>\n",
       "    </tr>\n",
       "    <tr>\n",
       "      <th>1</th>\n",
       "      <td>815990</td>\n",
       "      <td>Burundi</td>\n",
       "      <td>-3.17949</td>\n",
       "      <td>30.13868</td>\n",
       "      <td>2002</td>\n",
       "      <td>14</td>\n",
       "      <td>2.0</td>\n",
       "      <td>0.142857</td>\n",
       "      <td>1.391282</td>\n",
       "      <td>0.039882</td>\n",
       "      <td>...</td>\n",
       "      <td>96.239998</td>\n",
       "      <td>0.445988</td>\n",
       "      <td>4.216877</td>\n",
       "      <td>0.037949</td>\n",
       "      <td>4.256285</td>\n",
       "      <td>26.450457</td>\n",
       "      <td>11.881299</td>\n",
       "      <td>0.084996</td>\n",
       "      <td>0.0</td>\n",
       "      <td>18212.0</td>\n",
       "    </tr>\n",
       "    <tr>\n",
       "      <th>2</th>\n",
       "      <td>810967</td>\n",
       "      <td>Burundi</td>\n",
       "      <td>-3.03974</td>\n",
       "      <td>30.13727</td>\n",
       "      <td>2002</td>\n",
       "      <td>10</td>\n",
       "      <td>0.0</td>\n",
       "      <td>0.000000</td>\n",
       "      <td>1.486779</td>\n",
       "      <td>0.033189</td>\n",
       "      <td>...</td>\n",
       "      <td>91.000000</td>\n",
       "      <td>0.434329</td>\n",
       "      <td>4.110178</td>\n",
       "      <td>0.034985</td>\n",
       "      <td>4.007199</td>\n",
       "      <td>26.132448</td>\n",
       "      <td>11.471465</td>\n",
       "      <td>0.084178</td>\n",
       "      <td>0.0</td>\n",
       "      <td>17868.0</td>\n",
       "    </tr>\n",
       "    <tr>\n",
       "      <th>3</th>\n",
       "      <td>805449</td>\n",
       "      <td>Burundi</td>\n",
       "      <td>-3.10559</td>\n",
       "      <td>30.12975</td>\n",
       "      <td>2002</td>\n",
       "      <td>14</td>\n",
       "      <td>9.0</td>\n",
       "      <td>0.642857</td>\n",
       "      <td>1.615688</td>\n",
       "      <td>0.037288</td>\n",
       "      <td>...</td>\n",
       "      <td>91.599998</td>\n",
       "      <td>0.442503</td>\n",
       "      <td>4.365335</td>\n",
       "      <td>0.035782</td>\n",
       "      <td>4.094793</td>\n",
       "      <td>26.112253</td>\n",
       "      <td>12.006243</td>\n",
       "      <td>0.084885</td>\n",
       "      <td>0.0</td>\n",
       "      <td>19407.0</td>\n",
       "    </tr>\n",
       "    <tr>\n",
       "      <th>4</th>\n",
       "      <td>810209</td>\n",
       "      <td>Burundi</td>\n",
       "      <td>-3.16618</td>\n",
       "      <td>30.14546</td>\n",
       "      <td>2002</td>\n",
       "      <td>14</td>\n",
       "      <td>0.0</td>\n",
       "      <td>0.000000</td>\n",
       "      <td>1.445834</td>\n",
       "      <td>0.038757</td>\n",
       "      <td>...</td>\n",
       "      <td>94.239998</td>\n",
       "      <td>0.440252</td>\n",
       "      <td>4.190187</td>\n",
       "      <td>0.037552</td>\n",
       "      <td>4.142469</td>\n",
       "      <td>26.013147</td>\n",
       "      <td>11.710049</td>\n",
       "      <td>0.085187</td>\n",
       "      <td>0.0</td>\n",
       "      <td>17135.0</td>\n",
       "    </tr>\n",
       "  </tbody>\n",
       "</table>\n",
       "<p>5 rows × 29 columns</p>\n",
       "</div>"
      ],
      "text/plain": [
       "       id  country  latitude  longitude  year_start  examined  pf_pos  \\\n",
       "0  805938  Burundi  -3.11032   30.13181        2002        12     5.0   \n",
       "1  815990  Burundi  -3.17949   30.13868        2002        14     2.0   \n",
       "2  810967  Burundi  -3.03974   30.13727        2002        10     0.0   \n",
       "3  805449  Burundi  -3.10559   30.12975        2002        14     9.0   \n",
       "4  810209  Burundi  -3.16618   30.14546        2002        14     0.0   \n",
       "\n",
       "      pf_pr  LST_Night_SD_5km  TCW_SD_5km  ...  prec57a0_5km  TCB_Mean_5km  \\\n",
       "0  0.416667          1.615688    0.037288  ...     91.599998      0.442503   \n",
       "1  0.142857          1.391282    0.039882  ...     96.239998      0.445988   \n",
       "2  0.000000          1.486779    0.033189  ...     91.000000      0.434329   \n",
       "3  0.642857          1.615688    0.037288  ...     91.599998      0.442503   \n",
       "4  0.000000          1.445834    0.038757  ...     94.239998      0.440252   \n",
       "\n",
       "   LST_Delta_SD_5km  TCB_SD_5km  LST_Day_SD_5km  LST_Day_Mean_5km  \\\n",
       "0          4.365335    0.035782        4.094793         26.112253   \n",
       "1          4.216877    0.037949        4.256285         26.450457   \n",
       "2          4.110178    0.034985        4.007199         26.132448   \n",
       "3          4.365335    0.035782        4.094793         26.112253   \n",
       "4          4.190187    0.037552        4.142469         26.013147   \n",
       "\n",
       "   LST_Delta_Mean_5km  EVI_SD_5km  IGBP_2011_combined_forest  \\\n",
       "0           12.006243    0.084885                        0.0   \n",
       "1           11.881299    0.084996                        0.0   \n",
       "2           11.471465    0.084178                        0.0   \n",
       "3           12.006243    0.084885                        0.0   \n",
       "4           11.710049    0.085187                        0.0   \n",
       "\n",
       "   Pv_temperature_suitability  \n",
       "0                     19407.0  \n",
       "1                     18212.0  \n",
       "2                     17868.0  \n",
       "3                     19407.0  \n",
       "4                     17135.0  \n",
       "\n",
       "[5 rows x 29 columns]"
      ]
     },
     "execution_count": 2,
     "metadata": {},
     "output_type": "execute_result"
    }
   ],
   "source": [
    "data = pd.read_csv('data/small_df_malaria_with_covariates.csv')\n",
    "data.head()"
   ]
  },
  {
   "cell_type": "code",
   "execution_count": 3,
   "metadata": {},
   "outputs": [
    {
     "name": "stderr",
     "output_type": "stream",
     "text": [
      "INFO[2022-05-20 10:14:58,444]: Note: NumExpr detected 20 cores but \"NUMEXPR_MAX_THREADS\" not set, so enforcing safe limit of 8.\n",
      "INFO[2022-05-20 10:14:58,445]: NumExpr defaulting to 8 threads.\n"
     ]
    }
   ],
   "source": [
    "# remove outliers\n",
    "data = data[data['examined'] <= 2000]"
   ]
  },
  {
   "cell_type": "code",
   "execution_count": 4,
   "metadata": {},
   "outputs": [],
   "source": [
    "covs = ['latitude', 'longitude',\n",
    "       'LST_Night_SD_5km', 'TCW_SD_5km', 'TCW_Mean_5km',\n",
    "       'LST_Night_Mean_5km', 'DMSP_F18_5km', 'EVI_Mean_5km', 'GPW_2013',\n",
    "       'accessibility_50k_5km', 'PET_1950-2000_5km', 'Elev_5km',\n",
    "       'AI_1950-2000_5km', 'prec57a0_5km', 'TCB_Mean_5km', 'LST_Delta_SD_5km',\n",
    "       'TCB_SD_5km', 'LST_Day_SD_5km', 'LST_Day_Mean_5km',\n",
    "       'LST_Delta_Mean_5km', 'EVI_SD_5km', 'IGBP_2011_combined_forest',\n",
    "       'Pv_temperature_suitability']"
   ]
  },
  {
   "cell_type": "code",
   "execution_count": 5,
   "metadata": {},
   "outputs": [
    {
     "data": {
      "image/png": "[encoded data removed]",
      "text/plain": [
       "<Figure size 432x288 with 1 Axes>"
      ]
     },
     "metadata": {
      "needs_background": "light"
     },
     "output_type": "display_data"
    }
   ],
   "source": [
    "sns.histplot(data['examined'], stat='probability', bins=50, label='examined', color='blue')\n",
    "sns.histplot(data['pf_pos'], stat='probability', bins=50, label='positive', color='red')\n",
    "plt.legend()\n",
    "plt.show()"
   ]
  },
  {
   "cell_type": "code",
   "execution_count": 6,
   "metadata": {},
   "outputs": [
    {
     "data": {
      "image/png": "[encoded data removed]",
      "text/plain": [
       "<Figure size 432x288 with 1 Axes>"
      ]
     },
     "metadata": {
      "needs_background": "light"
     },
     "output_type": "display_data"
    }
   ],
   "source": [
    "sns.histplot(data['pf_pr'], stat='probability', bins=50)\n",
    "plt.show()"
   ]
  },
  {
   "cell_type": "code",
   "execution_count": 7,
   "metadata": {},
   "outputs": [],
   "source": [
    "def emplogit_counts(Y, N):\n",
    "    num = Y + 0.5\n",
    "    denom = (N-Y) + 0.5\n",
    "    return np.log(num/denom)"
   ]
  },
  {
   "cell_type": "code",
   "execution_count": 8,
   "metadata": {},
   "outputs": [],
   "source": [
    "data['prevalence'] = np.array(list(map(emplogit_counts,data.pf_pos.values, data.examined.values)))"
   ]
  },
  {
   "cell_type": "code",
   "execution_count": 9,
   "metadata": {},
   "outputs": [
    {
     "data": {
      "image/png": "[encoded data removed]",
      "text/plain": [
       "<Figure size 432x288 with 1 Axes>"
      ]
     },
     "metadata": {
      "needs_background": "light"
     },
     "output_type": "display_data"
    }
   ],
   "source": [
    "sns.histplot(data['prevalence'], stat='probability')\n",
    "plt.show()"
   ]
  },
  {
   "cell_type": "code",
   "execution_count": 10,
   "metadata": {},
   "outputs": [],
   "source": [
    "X = data[covs].values"
   ]
  },
  {
   "cell_type": "markdown",
   "metadata": {},
   "source": [
    "# Standardise the predictors"
   ]
  },
  {
   "cell_type": "code",
   "execution_count": 11,
   "metadata": {},
   "outputs": [],
   "source": [
    "from sklearn.preprocessing import StandardScaler\n",
    "X = StandardScaler().fit_transform(X)"
   ]
  },
  {
   "cell_type": "code",
   "execution_count": 12,
   "metadata": {},
   "outputs": [
    {
     "name": "stdout",
     "output_type": "stream",
     "text": [
      "(3103, 23)\n"
     ]
    }
   ],
   "source": [
    "x = X[:,:]\n",
    "print(x.shape)"
   ]
  },
  {
   "cell_type": "markdown",
   "metadata": {},
   "source": [
    "# Define the output variables"
   ]
  },
  {
   "cell_type": "code",
   "execution_count": 13,
   "metadata": {},
   "outputs": [
    {
     "name": "stdout",
     "output_type": "stream",
     "text": [
      "(3103,)\n",
      "(3103,)\n"
     ]
    }
   ],
   "source": [
    "n_obs = data['examined'].values\n",
    "y = data['pf_pos'].values\n",
    "\n",
    "print(y.shape)\n",
    "print(n_obs.shape)"
   ]
  },
  {
   "cell_type": "markdown",
   "metadata": {},
   "source": [
    "# Binomial regression"
   ]
  },
  {
   "cell_type": "code",
   "execution_count": 15,
   "metadata": {},
   "outputs": [],
   "source": [
    "def prev_model(n_obs=None, y=None, x=None):\n",
    "    # fixed effects\n",
    "    b0 = numpyro.sample('b0', dist.Normal(0, 1))\n",
    "    b1 = numpyro.sample('b1', dist.Normal(0, 1), sample_shape=(x.shape[1],))\n",
    "#     print(b0, b1)\n",
    "    lp = numpyro.deterministic(\"lp\", b0 + x.dot(b1)) # prevalence\n",
    "\n",
    "    theta = numpyro.deterministic(\"theta\", jax.nn.sigmoid(lp)) # prevalence\n",
    "     \n",
    "    numpyro.sample(\"obs\", dist.BinomialLogits(total_count = n_obs, logits=lp), obs=y)\n",
    "#     numpyro.sample(\"obs\", dist.NegativeBinomialLogits(total_count = n_obs, logits=lp), obs=y)\n"
   ]
  },
  {
   "cell_type": "markdown",
   "metadata": {},
   "source": [
    "# Regression with MCMC"
   ]
  },
  {
   "cell_type": "code",
   "execution_count": 16,
   "metadata": {},
   "outputs": [
    {
     "name": "stderr",
     "output_type": "stream",
     "text": [
      "INFO[2022-05-20 10:31:40,042]: Unable to initialize backend 'tpu_driver': Not found: Unable to find driver in registry given worker: \n",
      "INFO[2022-05-20 10:31:40,044]: Unable to initialize backend 'gpu': Not found: Could not find registered platform with name: \"cuda\". Available platform names are: Host Interpreter\n",
      "INFO[2022-05-20 10:31:40,047]: Unable to initialize backend 'tpu': Invalid argument: TpuPlatform is not available.\n",
      "sample: 100%|██████████| 2000/2000 [01:20<00:00, 24.80it/s, 1023 steps of size 3.91e-03. acc. prob=0.93]\n"
     ]
    },
    {
     "name": "stdout",
     "output_type": "stream",
     "text": [
      "\n",
      "                mean       std    median      5.0%     95.0%     n_eff     r_hat\n",
      "        b0     -1.05      0.01     -1.05     -1.06     -1.04   1398.93      1.00\n",
      "     b1[0]     -0.08      0.01     -0.08     -0.10     -0.07    368.19      1.00\n",
      "     b1[1]     -0.64      0.01     -0.64     -0.66     -0.62    405.54      1.00\n",
      "     b1[2]    -20.27      0.63    -20.29    -21.30    -19.28    538.73      1.00\n",
      "     b1[3]      0.31      0.01      0.31      0.30      0.33    637.74      1.00\n",
      "     b1[4]     -0.39      0.02     -0.39     -0.43     -0.35    454.11      1.01\n",
      "     b1[5]     15.76      0.62     15.72     14.73     16.75    512.09      1.00\n",
      "     b1[6]      0.07      0.01      0.07      0.06      0.08    748.47      1.01\n",
      "     b1[7]      0.47      0.01      0.47      0.45      0.48    564.90      1.01\n",
      "     b1[8]     -0.27      0.01     -0.27     -0.28     -0.26   1086.15      1.00\n",
      "     b1[9]     -0.12      0.01     -0.12     -0.14     -0.11   1468.23      1.00\n",
      "    b1[10]      0.03      0.01      0.03      0.02      0.04   1267.17      1.00\n",
      "    b1[11]      0.15      0.01      0.15      0.14      0.18    558.95      1.00\n",
      "    b1[12]     -0.14      0.02     -0.14     -0.17     -0.11    838.76      1.00\n",
      "    b1[13]      0.47      0.02      0.47      0.44      0.49    736.15      1.00\n",
      "    b1[14]     -0.31      0.02     -0.31     -0.35     -0.27    403.67      1.01\n",
      "    b1[15]     12.57      0.69     12.60     11.48     13.73    690.70      1.00\n",
      "    b1[16]     -0.29      0.01     -0.29     -0.31     -0.28    706.93      1.01\n",
      "    b1[17]      0.91      0.69      0.90     -0.35      1.90    705.43      1.00\n",
      "    b1[18]      3.58      0.51      3.56      2.70      4.38    877.48      1.00\n",
      "    b1[19]    -12.54      0.69    -12.57    -13.69    -11.44    689.66      1.00\n",
      "    b1[20]     -0.03      0.01     -0.03     -0.04     -0.02    940.45      1.01\n",
      "    b1[21]     -0.14      0.01     -0.14     -0.15     -0.13   1297.99      1.00\n",
      "    b1[22]      0.16      0.01      0.16      0.15      0.18    810.47      1.00\n",
      "\n",
      "Number of divergences: 0\n"
     ]
    }
   ],
   "source": [
    "kernel = NUTS(prev_model)\n",
    "mcmc = MCMC(kernel, num_warmup=1000, num_samples=1000, num_chains=1)\n",
    "mcmc.run(random.PRNGKey(0), n_obs=jnp.array(n_obs), y=jnp.array(y), x=jnp.array(x))\n",
    "mcmc.print_summary()\n",
    "samples = mcmc.get_samples()  "
   ]
  },
  {
   "cell_type": "code",
   "execution_count": 21,
   "metadata": {},
   "outputs": [
    {
     "name": "stdout",
     "output_type": "stream",
     "text": [
      "-1.0500107\n",
      "[ -0.08363403  -0.6382774  -20.273544     0.3124797   -0.3942977\n",
      "  15.757878     0.07176345   0.46549517  -0.2685796   -0.12472082\n",
      "   0.02664726   0.15434504  -0.1404103    0.46633413  -0.3145082\n",
      "  12.574689    -0.2909507    0.90524644   3.5791357  -12.539405\n",
      "  -0.03231758  -0.13921197   0.16171844]\n"
     ]
    }
   ],
   "source": [
    "b0_hmc = samples['b0'].mean()\n",
    "b1_hmc = samples['b1'].mean(axis=0)\n",
    "print(b0_hmc)\n",
    "print(b1_hmc)"
   ]
  },
  {
   "cell_type": "code",
   "execution_count": 22,
   "metadata": {},
   "outputs": [],
   "source": [
    "rng_key, rng_key_predict = random.split(random.PRNGKey(0))\n",
    "predictive = Predictive(prev_model, samples)\n",
    "predictions = predictive(rng_key_predict, n_obs = jnp.array(n_obs), x = jnp.array(x))['obs']\n",
    "\n",
    "\n",
    "mean_prediction = np.mean(predictions, axis=0)\n",
    "percentiles50 = np.percentile(predictions, [25.0, 75.0], axis=0)\n",
    "percentiles75 = np.percentile(predictions, [12.50, 87.50], axis=0)\n",
    "percentiles90 = np.percentile(predictions, [5.0, 95.0], axis=0)"
   ]
  },
  {
   "cell_type": "code",
   "execution_count": 23,
   "metadata": {},
   "outputs": [
    {
     "data": {
      "image/png": "[encoded data removed]",
      "text/plain": [
       "<Figure size 432x288 with 1 Axes>"
      ]
     },
     "metadata": {
      "needs_background": "light"
     },
     "output_type": "display_data"
    }
   ],
   "source": [
    "plt.scatter(y, mean_prediction)\n",
    "plt.xlabel('# positive observed')\n",
    "plt.ylabel('# positive estimated')\n",
    "plt.plot(y, y, color='red')\n",
    "plt.show()"
   ]
  },
  {
   "cell_type": "code",
   "execution_count": 24,
   "metadata": {},
   "outputs": [
    {
     "data": {
      "image/png": "[encoded data removed]",
      "text/plain": [
       "<Figure size 432x288 with 1 Axes>"
      ]
     },
     "metadata": {
      "needs_background": "light"
     },
     "output_type": "display_data"
    }
   ],
   "source": [
    "plt.scatter(y/n_obs, mean_prediction/n_obs)\n",
    "plt.xlabel('% positive observed')\n",
    "plt.ylabel('% positive estimated')\n",
    "plt.plot(y/n_obs, y/n_obs, color='red')\n",
    "plt.show()"
   ]
  },
  {
   "cell_type": "markdown",
   "metadata": {},
   "source": [
    "# Using HMC posterior as TI reference"
   ]
  },
  {
   "cell_type": "markdown",
   "metadata": {},
   "source": [
    "path density\n",
    "\n",
    "lambda(log-like1 + log_prior) + (1-lambda)log_ref_density"
   ]
  },
  {
   "cell_type": "code",
   "execution_count": 25,
   "metadata": {},
   "outputs": [],
   "source": [
    "# using mcmc samples\n",
    "posterior_samples = samples\n",
    "\n",
    "mu_ref =  [posterior_samples['b0'].mean(), \n",
    "           posterior_samples['b1'].mean(axis=0)]\n",
    "\n",
    "sigma_ref =  [posterior_samples['b0'].std(), \n",
    "           posterior_samples['b1'].std(axis=0)]"
   ]
  },
  {
   "cell_type": "code",
   "execution_count": 26,
   "metadata": {},
   "outputs": [
    {
     "name": "stdout",
     "output_type": "stream",
     "text": [
      "(1000, 24)\n"
     ]
    }
   ],
   "source": [
    "samples = jnp.append(jnp.reshape(posterior_samples['b0'], (posterior_samples['b1'].shape[0],1)),\n",
    "                                 posterior_samples['b1'], axis=1)\n",
    "print(samples.shape)"
   ]
  },
  {
   "cell_type": "code",
   "execution_count": 33,
   "metadata": {},
   "outputs": [],
   "source": [
    "diag_approx = True\n",
    "\n",
    "if diag_approx:\n",
    "    # using diagonal approximation\n",
    "    \n",
    "    sigma_ref_tmp = jnp.append(sigma_ref[0], sigma_ref[1])\n",
    "#     sigma_ref = sigma_ref_tmp\n",
    "\n",
    "    posterior = {'mu': mu_ref, 'cov': jnp.diag(sigma_ref_tmp**2), 'y': y, 'x': X}\n",
    "    posterior.update({'covinv': jnp.linalg.inv(posterior['cov'])})\n",
    "    posterior.update({'log_det_cov': jnp.log(sigma_ref_tmp**2).sum()})\n",
    "else:\n",
    "    # using full covariance matrix\n",
    "    posterior = {'mu': mu_ref, 'cov': jnp.array(np.cov(np.array(samples[:,:]), rowvar = False)), 'y': y, 'x': X}\n",
    "    posterior.update({'covinv': jnp.linalg.inv(posterior['cov'])})\n",
    "    posterior.update({'log_det_cov': jnp.log(np.linalg.det(posterior['cov']))})"
   ]
  },
  {
   "cell_type": "code",
   "execution_count": 34,
   "metadata": {},
   "outputs": [
    {
     "data": {
      "text/plain": [
       "DeviceArray(-172.94719, dtype=float32)"
      ]
     },
     "execution_count": 34,
     "metadata": {},
     "output_type": "execute_result"
    }
   ],
   "source": [
    "posterior['log_det_cov']"
   ]
  },
  {
   "cell_type": "markdown",
   "metadata": {},
   "source": [
    "# Reference using a Laplace approximation"
   ]
  },
  {
   "cell_type": "markdown",
   "metadata": {},
   "source": [
    "https://www.stat.cmu.edu/~cshalizi/mreg/15/lectures/06/lecture-06.pdf equation 3\n",
    "\n",
    "https://www.statlect.com/fundamentals-of-statistics/linear-regression-maximum-likelihood"
   ]
  },
  {
   "cell_type": "code",
   "execution_count": 35,
   "metadata": {},
   "outputs": [],
   "source": [
    "def Logf(posterior):\n",
    "    theta_tmp = posterior['mu']\n",
    "    \n",
    "    b0 = theta_tmp[0]\n",
    "    b1 = theta_tmp[1:][0]\n",
    "    \n",
    "    x = posterior['x']\n",
    "    y = posterior['y']\n",
    "    N = len(y)\n",
    "    \n",
    "\n",
    "    log_prior = dist.Normal(0,1).log_prob(b0)   \n",
    "    log_prior += dist.Normal(0,1).log_prob(b1).sum()\n",
    "    \n",
    "    lp = b0 + x.dot(b1)\n",
    "#     theta = jax.nn.sigmoid(lp)\n",
    "     \n",
    "    # log likelihood = sum of log likelihoods#\n",
    "    log_likelihood = dist.BinomialLogits(total_count = n_obs, logits=lp).log_prob(y).sum()\n",
    "\n",
    "    return log_likelihood + log_prior    \n",
    "\n",
    "\n",
    "def LogLaplaceCovariance(posterior):\n",
    "    \n",
    "    result = 1/2 * len(posterior['mu']) * jnp.log(2*np.pi) \n",
    "    result += 1/2 * posterior['log_det_cov']#jnp.log(jnp.linalg.det(posterior['cov']))\n",
    "    result += Logf(posterior)\n",
    "    return result"
   ]
  },
  {
   "cell_type": "code",
   "execution_count": 36,
   "metadata": {},
   "outputs": [
    {
     "name": "stdout",
     "output_type": "stream",
     "text": [
      "q(theta_hat) -45225.023\n",
      "log(z_ref)= -45309.66\n"
     ]
    }
   ],
   "source": [
    "f0 = Logf(posterior)\n",
    "log_zref = LogLaplaceCovariance(posterior)\n",
    "\n",
    "print('q(theta_hat)', f0)\n",
    "print('log(z_ref)=', log_zref)"
   ]
  },
  {
   "cell_type": "markdown",
   "metadata": {},
   "source": [
    "# Thermodynamic Integration"
   ]
  },
  {
   "cell_type": "code",
   "execution_count": 37,
   "metadata": {},
   "outputs": [],
   "source": [
    "def ref_TI_laplace(y = None, x = None, n_obs=n_obs, lambda_ti=1.0):\n",
    "        \n",
    "    n = x.shape[1]    \n",
    "    mu_ref = posterior['mu']\n",
    "    \n",
    "    # sample from some distribution\n",
    "    b0 = numpyro.sample('b0', dist.Normal(0, 1))\n",
    "    \n",
    "#     with numpyro.plate('num_covs', n):\n",
    "#         b1 = numpyro.sample('b1', dist.Normal(0,1))\n",
    "        \n",
    "    b1 = numpyro.sample('b1', dist.Normal(0, 1), sample_shape=(n,))\n",
    "    \n",
    "    lp = numpyro.deterministic(\"lp\", b0 + x.dot(b1)) # prevalence\n",
    "\n",
    "\n",
    "#     theta = numpyro.deterministic(\"theta\", jax.nn.sigmoid(lp)) # prevalence\n",
    "     \n",
    "    numpyro.sample(\"obs\", dist.BinomialLogits(total_count = n_obs, logits=lp), obs=y)\n",
    "    \n",
    "    lik = numpyro.deterministic('lik', dist.BinomialLogits(total_count = n_obs, logits=lp).log_prob(y).sum())\n",
    "\n",
    "    # remove the log-prob added by the prior\n",
    "    lp_prior = dist.Normal(0, 1).log_prob(b0)   \n",
    "    lp_prior += dist.Normal(0, 1).log_prob(b1).sum()\n",
    "    lp_prior = numpyro.deterministic('lp_prior',  lp_prior)\n",
    "\n",
    "    \n",
    "    # log-prob reference\n",
    "\n",
    "#     theta_ = jnp.append(jnp.array([(b0 - mu_ref[0]), (b1 - mu_ref[1])]).flatten())\n",
    "    theta_ = jnp.append(b0 - mu_ref[0], b1 - mu_ref[1])\n",
    "    \n",
    "    lp_lik_ref = f0 - 0.5 * (jnp.matmul(jnp.matmul(theta_,posterior['covinv']),theta_))\n",
    "    \n",
    "    tmp = numpyro.deterministic('tmp', (1 - lambda_ti) * (lp_lik_ref - lp_prior))\n",
    "    tmp2 = numpyro.deterministic('tmp2',(lp_lik_ref - lp_prior))\n",
    "    tmp3 = numpyro.deterministic('tmp3',(1 - lambda_ti))\n",
    "\n",
    "#     print(tmp, tmp2, tmp3)\n",
    "    \n",
    "    if lambda_ti != 0.0:\n",
    "        numpyro.factor('likelihood1',  lambda_ti * lik)\n",
    "    if lambda_ti != 1.0:\n",
    "        numpyro.factor('likelihood2',  \n",
    "                       (1 - lambda_ti) * (lp_lik_ref - lp_prior)\n",
    "                      )\n",
    "    \n",
    "    # generated quantities\n",
    "    q0 = numpyro.deterministic('q0', lp_lik_ref)\n",
    "    q1 = numpyro.deterministic('q1', lik + lp_prior)\n",
    "    qdiff = numpyro.deterministic('qdiff',  q1-q0)\n",
    "   \n",
    "    \n",
    "kernel = NUTS(ref_TI_laplace,  target_accept_prob=0.8)\n",
    "mcmc = MCMC(kernel, num_warmup = 1000, num_samples = 4000, num_chains = 1)"
   ]
  },
  {
   "cell_type": "markdown",
   "metadata": {},
   "source": [
    "# Test for lambda = 0"
   ]
  },
  {
   "cell_type": "code",
   "execution_count": 38,
   "metadata": {},
   "outputs": [
    {
     "name": "stderr",
     "output_type": "stream",
     "text": [
      "sample: 100%|██████████| 5000/5000 [02:40<00:00, 31.19it/s, 1023 steps of size 5.29e-03. acc. prob=0.94]\n"
     ]
    },
    {
     "name": "stdout",
     "output_type": "stream",
     "text": [
      "\n",
      "                mean       std    median      5.0%     95.0%     n_eff     r_hat\n",
      "        b0     -1.05      0.00     -1.05     -1.05     -1.04   6034.78      1.00\n",
      "     b1[0]     -0.10      0.01     -0.10     -0.11     -0.09   3756.77      1.00\n",
      "     b1[1]     -0.65      0.01     -0.65     -0.66     -0.64   3617.47      1.00\n",
      "     b1[2]    -25.37      0.44    -25.38    -26.10    -24.67   3028.41      1.00\n",
      "     b1[3]      0.32      0.01      0.32      0.31      0.32   4384.31      1.00\n",
      "     b1[4]     -0.40      0.01     -0.40     -0.42     -0.38   2977.31      1.00\n",
      "     b1[5]     18.57      0.42     18.57     17.93     19.27   3014.73      1.00\n",
      "     b1[6]      0.07      0.00      0.07      0.06      0.07   5042.47      1.00\n",
      "     b1[7]      0.47      0.01      0.47      0.46      0.48   3481.95      1.00\n",
      "     b1[8]     -0.27      0.00     -0.27     -0.28     -0.26   5283.67      1.00\n",
      "     b1[9]     -0.13      0.00     -0.13     -0.13     -0.12   6145.93      1.00\n",
      "    b1[10]      0.02      0.00      0.02      0.02      0.03   5283.13      1.00\n",
      "    b1[11]      0.19      0.01      0.19      0.18      0.20   3399.02      1.00\n",
      "    b1[12]     -0.13      0.01     -0.14     -0.15     -0.12   3607.88      1.00\n",
      "    b1[13]      0.47      0.01      0.47      0.45      0.48   3454.32      1.00\n",
      "    b1[14]     -0.31      0.01     -0.31     -0.33     -0.28   3031.62      1.00\n",
      "    b1[15]     17.58      0.46     17.58     16.80     18.30   2619.79      1.00\n",
      "    b1[16]     -0.28      0.01     -0.28     -0.29     -0.27   4245.83      1.00\n",
      "    b1[17]      2.40      0.50      2.39      1.55      3.16   2835.07      1.00\n",
      "    b1[18]      4.38      0.36      4.38      3.79      4.96   2878.01      1.00\n",
      "    b1[19]    -17.55      0.46    -17.55    -18.27    -16.78   2620.37      1.00\n",
      "    b1[20]     -0.04      0.00     -0.04     -0.04     -0.03   4973.20      1.00\n",
      "    b1[21]     -0.14      0.00     -0.14     -0.15     -0.13   5140.95      1.00\n",
      "    b1[22]      0.14      0.01      0.14      0.13      0.15   3908.70      1.00\n",
      "\n",
      "Number of divergences: 0\n"
     ]
    }
   ],
   "source": [
    "mcmc.run(random.PRNGKey(0), y = jnp.array(y), x = jnp.array(x), n_obs=jnp.array(n_obs), lambda_ti = 0.0)\n",
    "mcmc.print_summary()\n",
    "samples = mcmc.get_samples()  "
   ]
  },
  {
   "cell_type": "code",
   "execution_count": 39,
   "metadata": {},
   "outputs": [
    {
     "data": {
      "image/png": "[encoded data removed]",
      "text/plain": [
       "<Figure size 432x288 with 1 Axes>"
      ]
     },
     "metadata": {
      "needs_background": "light"
     },
     "output_type": "display_data"
    },
    {
     "data": {
      "image/png": "[encoded data removed]",
      "text/plain": [
       "<Figure size 432x288 with 1 Axes>"
      ]
     },
     "metadata": {
      "needs_background": "light"
     },
     "output_type": "display_data"
    },
    {
     "data": {
      "image/png": "[encoded data removed]",
      "text/plain": [
       "<Figure size 432x288 with 1 Axes>"
      ]
     },
     "metadata": {
      "needs_background": "light"
     },
     "output_type": "display_data"
    }
   ],
   "source": [
    "plt.plot(samples['q0'])\n",
    "plt.xlabel('iteration')\n",
    "plt.title('q0')\n",
    "plt.show()\n",
    "plt.plot(samples['q1'])\n",
    "plt.xlabel('iteration')\n",
    "plt.title('q1')\n",
    "plt.show()\n",
    "plt.plot(samples['qdiff'])\n",
    "plt.xlabel('iteration')\n",
    "plt.title('qdiff')\n",
    "plt.show()"
   ]
  },
  {
   "cell_type": "markdown",
   "metadata": {},
   "source": [
    "# Test for lambda = 1"
   ]
  },
  {
   "cell_type": "code",
   "execution_count": 40,
   "metadata": {},
   "outputs": [
    {
     "name": "stderr",
     "output_type": "stream",
     "text": [
      "sample: 100%|██████████| 5000/5000 [06:31<00:00, 12.78it/s, 1023 steps of size 3.04e-03. acc. prob=0.93]\n"
     ]
    },
    {
     "name": "stdout",
     "output_type": "stream",
     "text": [
      "\n",
      "                mean       std    median      5.0%     95.0%     n_eff     r_hat\n",
      "        b0     -1.05      0.00     -1.05     -1.06     -1.04   5010.64      1.00\n",
      "     b1[0]     -0.13      0.01     -0.13     -0.14     -0.12   1220.14      1.00\n",
      "     b1[1]     -0.69      0.01     -0.69     -0.70     -0.68   1137.31      1.00\n",
      "     b1[2]    -28.04      0.56    -28.05    -28.91    -27.06   1188.49      1.00\n",
      "     b1[3]      0.32      0.01      0.32      0.31      0.33   1661.75      1.00\n",
      "     b1[4]     -0.35      0.02     -0.35     -0.38     -0.32   1211.51      1.00\n",
      "     b1[5]     18.90      0.53     18.90     18.02     19.74   1513.42      1.00\n",
      "     b1[6]      0.06      0.00      0.06      0.05      0.06   2428.44      1.00\n",
      "     b1[7]      0.47      0.01      0.47      0.46      0.48   1705.90      1.00\n",
      "     b1[8]     -0.27      0.00     -0.27     -0.27     -0.26   3682.03      1.00\n",
      "     b1[9]     -0.13      0.00     -0.13     -0.14     -0.13   4569.20      1.00\n",
      "    b1[10]      0.02      0.00      0.02      0.01      0.03   4764.81      1.00\n",
      "    b1[11]      0.23      0.01      0.23      0.22      0.25   1361.43      1.00\n",
      "    b1[12]     -0.12      0.01     -0.12     -0.14     -0.10   2073.06      1.00\n",
      "    b1[13]      0.45      0.01      0.45      0.43      0.47   2029.21      1.00\n",
      "    b1[14]     -0.25      0.02     -0.25     -0.28     -0.22   1125.64      1.00\n",
      "    b1[15]     21.49      0.65     21.49     20.49     22.63   1387.65      1.00\n",
      "    b1[16]     -0.28      0.01     -0.28     -0.29     -0.27   1972.90      1.00\n",
      "    b1[17]      3.07      0.64      3.07      1.99      4.10   1464.78      1.00\n",
      "    b1[18]      6.05      0.43      6.04      5.37      6.79   1660.11      1.00\n",
      "    b1[19]    -21.47      0.65    -21.47    -22.60    -20.46   1387.80      1.00\n",
      "    b1[20]     -0.05      0.01     -0.05     -0.06     -0.04   2345.14      1.00\n",
      "    b1[21]     -0.15      0.00     -0.15     -0.15     -0.14   4498.85      1.00\n",
      "    b1[22]      0.14      0.01      0.14      0.13      0.15   2217.59      1.00\n",
      "\n",
      "Number of divergences: 0\n"
     ]
    }
   ],
   "source": [
    "mcmc.run(random.PRNGKey(0), y = jnp.array(y), x = jnp.array(x), n_obs=jnp.array(n_obs), lambda_ti = 1.0)\n",
    "mcmc.print_summary()\n",
    "samples = mcmc.get_samples()  "
   ]
  },
  {
   "cell_type": "code",
   "execution_count": 41,
   "metadata": {},
   "outputs": [
    {
     "data": {
      "image/png": "[encoded data removed]",
      "text/plain": [
       "<Figure size 432x288 with 1 Axes>"
      ]
     },
     "metadata": {
      "needs_background": "light"
     },
     "output_type": "display_data"
    },
    {
     "data": {
      "image/png": "[encoded data removed]",
      "text/plain": [
       "<Figure size 432x288 with 1 Axes>"
      ]
     },
     "metadata": {
      "needs_background": "light"
     },
     "output_type": "display_data"
    },
    {
     "data": {
      "image/png": "[encoded data removed]",
      "text/plain": [
       "<Figure size 432x288 with 1 Axes>"
      ]
     },
     "metadata": {
      "needs_background": "light"
     },
     "output_type": "display_data"
    }
   ],
   "source": [
    "plt.plot(samples['q0'])\n",
    "plt.xlabel('iteration')\n",
    "plt.title('q0')\n",
    "plt.show()\n",
    "plt.plot(samples['q1'])\n",
    "plt.xlabel('iteration')\n",
    "plt.title('q1')\n",
    "plt.show()\n",
    "plt.plot(samples['qdiff'])\n",
    "plt.xlabel('iteration')\n",
    "plt.title('qdiff')\n",
    "plt.show()"
   ]
  },
  {
   "cell_type": "markdown",
   "metadata": {},
   "source": [
    "# Full TI"
   ]
  },
  {
   "cell_type": "code",
   "execution_count": 42,
   "metadata": {},
   "outputs": [],
   "source": [
    "def TI(lambda_vals = jnp.arange(0.0,1.1,0.1)):\n",
    "    kernel = NUTS(ref_TI_laplace,  target_accept_prob=0.8)\n",
    "    mcmc = MCMC(kernel, num_warmup = 1000, num_samples = 1000, num_chains = 1)\n",
    "    \n",
    "    samples, integrand = [], []\n",
    "    for lambda_i in lambda_vals:\n",
    "        \n",
    "        mcmc.run(random.PRNGKey(0), y = jnp.array(y), x = jnp.array(x), n_obs=jnp.array(n_obs), lambda_ti = lambda_i)\n",
    "        samples_i = mcmc.get_samples() \n",
    "        \n",
    "\n",
    "        log_qdiff = samples_i['qdiff']\n",
    "        integrand_i = jnp.nanmean(log_qdiff)\n",
    "        \n",
    "        print('lambda=', lambda_i, integrand_i)\n",
    "        \n",
    "        integrand.append([lambda_i, integrand_i])\n",
    "        samples.append(samples_i)\n",
    "        \n",
    "    return integrand, samples\n",
    "        "
   ]
  },
  {
   "cell_type": "code",
   "execution_count": 43,
   "metadata": {},
   "outputs": [
    {
     "name": "stderr",
     "output_type": "stream",
     "text": [
      "sample: 100%|██████████| 2000/2000 [00:59<00:00, 33.77it/s, 1023 steps of size 5.29e-03. acc. prob=0.93]\n",
      "  0%|          | 0/2000 [00:00<?, ?it/s]"
     ]
    },
    {
     "name": "stdout",
     "output_type": "stream",
     "text": [
      "lambda= 0.0 36.543564\n"
     ]
    },
    {
     "name": "stderr",
     "output_type": "stream",
     "text": [
      "sample: 100%|██████████| 2000/2000 [01:10<00:00, 28.48it/s, 1023 steps of size 5.47e-03. acc. prob=0.92]\n",
      "  0%|          | 0/2000 [00:00<?, ?it/s]"
     ]
    },
    {
     "name": "stdout",
     "output_type": "stream",
     "text": [
      "lambda= 0.1 41.745564\n"
     ]
    },
    {
     "name": "stderr",
     "output_type": "stream",
     "text": [
      "sample: 100%|██████████| 2000/2000 [01:18<00:00, 25.60it/s, 1023 steps of size 4.58e-03. acc. prob=0.94]\n",
      "  0%|          | 0/2000 [00:00<?, ?it/s]"
     ]
    },
    {
     "name": "stdout",
     "output_type": "stream",
     "text": [
      "lambda= 0.2 47.393707\n"
     ]
    },
    {
     "name": "stderr",
     "output_type": "stream",
     "text": [
      "sample: 100%|██████████| 2000/2000 [01:19<00:00, 25.25it/s, 1023 steps of size 4.56e-03. acc. prob=0.92]\n",
      "  0%|          | 0/2000 [00:00<?, ?it/s]"
     ]
    },
    {
     "name": "stdout",
     "output_type": "stream",
     "text": [
      "lambda= 0.3 54.096157\n"
     ]
    },
    {
     "name": "stderr",
     "output_type": "stream",
     "text": [
      "sample: 100%|██████████| 2000/2000 [01:21<00:00, 24.57it/s, 1023 steps of size 4.31e-03. acc. prob=0.94]\n",
      "  0%|          | 0/2000 [00:00<?, ?it/s]"
     ]
    },
    {
     "name": "stdout",
     "output_type": "stream",
     "text": [
      "lambda= 0.4 61.67413\n"
     ]
    },
    {
     "name": "stderr",
     "output_type": "stream",
     "text": [
      "sample: 100%|██████████| 2000/2000 [01:22<00:00, 24.33it/s, 1023 steps of size 4.19e-03. acc. prob=0.92]\n",
      "  0%|          | 0/2000 [00:00<?, ?it/s]"
     ]
    },
    {
     "name": "stdout",
     "output_type": "stream",
     "text": [
      "lambda= 0.5 71.00807\n"
     ]
    },
    {
     "name": "stderr",
     "output_type": "stream",
     "text": [
      "sample: 100%|██████████| 2000/2000 [01:24<00:00, 23.62it/s, 1023 steps of size 4.05e-03. acc. prob=0.92]\n",
      "  0%|          | 0/2000 [00:00<?, ?it/s]"
     ]
    },
    {
     "name": "stdout",
     "output_type": "stream",
     "text": [
      "lambda= 0.6 82.09056\n"
     ]
    },
    {
     "name": "stderr",
     "output_type": "stream",
     "text": [
      "sample: 100%|██████████| 2000/2000 [01:25<00:00, 23.35it/s, 1023 steps of size 4.11e-03. acc. prob=0.91]\n",
      "  0%|          | 0/2000 [00:00<?, ?it/s]"
     ]
    },
    {
     "name": "stdout",
     "output_type": "stream",
     "text": [
      "lambda= 0.7 96.2069\n"
     ]
    },
    {
     "name": "stderr",
     "output_type": "stream",
     "text": [
      "sample: 100%|██████████| 2000/2000 [01:27<00:00, 22.96it/s, 1023 steps of size 3.48e-03. acc. prob=0.93]\n",
      "  0%|          | 0/2000 [00:00<?, ?it/s]"
     ]
    },
    {
     "name": "stdout",
     "output_type": "stream",
     "text": [
      "lambda= 0.8 113.899635\n"
     ]
    },
    {
     "name": "stderr",
     "output_type": "stream",
     "text": [
      "sample: 100%|██████████| 2000/2000 [01:28<00:00, 22.69it/s, 1023 steps of size 3.24e-03. acc. prob=0.93]\n",
      "  0%|          | 0/2000 [00:00<?, ?it/s]"
     ]
    },
    {
     "name": "stdout",
     "output_type": "stream",
     "text": [
      "lambda= 0.90000004 137.56635\n"
     ]
    },
    {
     "name": "stderr",
     "output_type": "stream",
     "text": [
      "sample: 100%|██████████| 2000/2000 [02:26<00:00, 13.66it/s, 1023 steps of size 3.04e-03. acc. prob=0.93]\n"
     ]
    },
    {
     "name": "stdout",
     "output_type": "stream",
     "text": [
      "lambda= 1.0 170.65845\n"
     ]
    }
   ],
   "source": [
    "integrand, samples = TI() "
   ]
  },
  {
   "cell_type": "code",
   "execution_count": 44,
   "metadata": {},
   "outputs": [
    {
     "data": {
      "image/png": "[encoded data removed]",
      "text/plain": [
       "<Figure size 432x288 with 1 Axes>"
      ]
     },
     "metadata": {
      "needs_background": "light"
     },
     "output_type": "display_data"
    }
   ],
   "source": [
    "integrand = np.array(integrand)\n",
    "lambda_vals, TI_integrand = integrand.T[0, :], integrand.T[1, :]\n",
    "plt.scatter(lambda_vals, TI_integrand, label='numpyro') # normal scale\n",
    "# plt.scatter(z_ti_stan.keys(), stan_expects , label='stan') # normal scale\n",
    "plt.legend()\n",
    "plt.xlabel('$\\lambda$')\n",
    "plt.ylabel('expectation')\n",
    "plt.show()"
   ]
  },
  {
   "cell_type": "markdown",
   "metadata": {},
   "source": [
    "# Fit a cubic spline and integrate"
   ]
  },
  {
   "cell_type": "code",
   "execution_count": 45,
   "metadata": {},
   "outputs": [],
   "source": [
    "import scipy"
   ]
  },
  {
   "cell_type": "code",
   "execution_count": 48,
   "metadata": {},
   "outputs": [
    {
     "data": {
      "image/png": "[encoded data removed]",
      "text/plain": [
       "<Figure size 432x288 with 1 Axes>"
      ]
     },
     "metadata": {
      "needs_background": "light"
     },
     "output_type": "display_data"
    },
    {
     "data": {
      "text/plain": [
       "80.64727509268239"
      ]
     },
     "execution_count": 48,
     "metadata": {},
     "output_type": "execute_result"
    }
   ],
   "source": [
    "tck = scipy.interpolate.splrep(lambda_vals, TI_integrand, s=0)\n",
    "xnew = np.linspace(0, 1)\n",
    "ynew = scipy.interpolate.splev(xnew, tck, der=0)\n",
    "plt.plot(xnew,ynew)\n",
    "plt.scatter(lambda_vals, TI_integrand)\n",
    "plt.xlabel('lambda')\n",
    "plt.ylabel('expectation')\n",
    "plt.show()\n",
    "# calculate exponent of the integral of the interpolated line\n",
    "logzExtra = scipy.interpolate.splint(lambda_vals[0], lambda_vals[-1], tck, full_output=0)\n",
    "logzExtra\n"
   ]
  },
  {
   "cell_type": "markdown",
   "metadata": {},
   "source": [
    "# Finally we can calculate log(z) = log(z_ref) + log(z_extra)"
   ]
  },
  {
   "cell_type": "code",
   "execution_count": 49,
   "metadata": {},
   "outputs": [],
   "source": [
    "log_z = log_zref + logzExtra"
   ]
  },
  {
   "cell_type": "code",
   "execution_count": 50,
   "metadata": {},
   "outputs": [
    {
     "name": "stdout",
     "output_type": "stream",
     "text": [
      "-45229.01\n"
     ]
    }
   ],
   "source": [
    "print(log_z)"
   ]
  }
 ],
 "metadata": {
  "kernelspec": {
   "display_name": "Python 3",
   "language": "python",
   "name": "python3"
  },
  "language_info": {
   "codemirror_mode": {
    "name": "ipython",
    "version": 3
   },
   "file_extension": ".py",
   "mimetype": "text/x-python",
   "name": "python",
   "nbconvert_exporter": "python",
   "pygments_lexer": "ipython3",
   "version": "3.7.7"
  }
 },
 "nbformat": 4,
 "nbformat_minor": 4
}
